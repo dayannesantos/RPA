{
 "cells": [
  {
   "cell_type": "markdown",
   "metadata": {},
   "source": [
    "# RPA com Python\n",
    "\n",
    "- O que é RPA?\n",
    "- Por que isso é diferente de Selenium/Web-Scraping e do que vimos até agora?\n",
    "    - Pontos Positivos\n",
    "    - Pontos Negativos\n",
    "- Biblioteca usada:\n",
    "    - pip install pyautogui\n",
    "    - https://pyautogui.readthedocs.io/en/latest/\n",
    "        - Para os comandos de imagem pode ser que seja necessário instalar pip install pillow\n",
    "        - Para resolver problemas de caracteres especiais vamos usar um macete com a pyperclip\n",
    "        \n",
    "- Link com um resumo dos principais comandos: https://pyautogui.readthedocs.io/en/latest/quickstart.html"
   ]
  },
  {
   "cell_type": "markdown",
   "metadata": {},
   "source": [
    "## Desafio\n",
    "\n",
    "- Vamos automatizar a extração de informações de um sistema e envio de um relatório por e-mail\n",
    "- No nosso caso, para todo mundo conseguir fazer o mesmo programa, o nosso \"sistema\" vai ser o Gmail, mas o mesmo processo pode ser feito com qualquer programa do seu computador e qualquer sistema\n",
    "    - Passo 1: Entrar no sistema (entrar no Gmail)\n",
    "    - Passo 2: Entrar em uma aba específica do sistema onde tem o nosso relatório (Aba Contatos)\n",
    "    - Passo 3: Exportar o Relatório (Exportar Contatos)\n",
    "    - Passo 4: Pegar o relatório exportado, tratar e pegar as informações que queremos\n",
    "    - Passo 5: Preencher/Atualizar informações do sistema (No nosso caso, criar um e-mail e enviar)"
   ]
  },
  {
   "cell_type": "code",
   "execution_count": 51,
   "metadata": {},
   "outputs": [],
   "source": [
    "import pyautogui\n",
    "import time\n",
    "\n",
    "pyautogui.alert('A automação vai começar. Não mexa em NADA enquanto o programa tiver rodando. Você será avisado quando terminar.')  \n",
    "\n",
    "# Defina uma pausa entre os comandos\n",
    "pyautogui.PAUSE = 1\n",
    "\n",
    "# Função para tirar um print de depuração\n",
    "def debug_screenshot(step_name):\n",
    "    screenshot_path = f\"debug_{step_name}.png\"\n",
    "    pyautogui.screenshot(screenshot_path)\n",
    "    print(f\"Screenshot salva: {screenshot_path}\")\n",
    "\n",
    "# Abrir o Chrome e pesquisar Gmail\n",
    "pyautogui.press('win')\n",
    "pyautogui.write('chrome')\n",
    "pyautogui.press('enter')\n",
    "time.sleep(2)\n",
    "pyautogui.write('gmail login')\n",
    "pyautogui.press('enter')\n",
    "time.sleep(5)\n",
    "\n",
    "# Tentar localizar a imagem no Google\n",
    "try:\n",
    "    location = pyautogui.locateOnScreen('busca_google.png', grayscale=True, confidence=0.8)\n",
    "    if location:\n",
    "        pyautogui.click(location)\n",
    "    else:\n",
    "        print('Imagem busca_google.png não encontrada.')\n",
    "        debug_screenshot('busca_google')\n",
    "except pyautogui.ImageNotFoundException:\n",
    "    print('Erro ao tentar localizar a imagem busca_google.png')\n",
    "    debug_screenshot('busca_google_exception')\n",
    "\n",
    "# Esperar o Gmail carregar\n",
    "time.sleep(5)\n",
    "\n",
    "# Tentar entrar em contatos\n",
    "try:\n",
    "    menu = pyautogui.locateOnScreen('menu_gmail.png', grayscale=True, confidence=0.8)\n",
    "    if menu:\n",
    "        pyautogui.click(menu)\n",
    "    else:\n",
    "        print('Imagem menu_gmail.png não encontrada.')\n",
    "        debug_screenshot('menu_gmail')\n",
    "except pyautogui.ImageNotFoundException:\n",
    "    print('Erro ao tentar localizar a imagem menu_gmail.png')\n",
    "    debug_screenshot('menu_gmail_exception')\n",
    "\n",
    "time.sleep(1)\n",
    "try:\n",
    "    contatos = pyautogui.locateOnScreen('contatos_menu.png', grayscale=True, confidence=0.8)\n",
    "    if contatos:\n",
    "        pyautogui.click(contatos)\n",
    "    else:\n",
    "        print('Imagem contatos_menu.png não encontrada.')\n",
    "        debug_screenshot('contatos_menu')\n",
    "except pyautogui.ImageNotFoundException:\n",
    "    print('Erro ao tentar localizar a imagem contatos_menu.png')\n",
    "    debug_screenshot('contatos_menu_exception')\n",
    "\n",
    "# Esperar tela de contatos carregar\n",
    "time.sleep(5)\n",
    "\n",
    "#Exportar contatos\n",
    "try:\n",
    "    exportar = pyautogui.locateOnScreen('exportar.png', grayscale=True, confidence=0.8)\n",
    "    if exportar:\n",
    "        pyautogui.click(exportar)\n",
    "    else:\n",
    "        print('Imagem exportar.png não encontrada.')\n",
    "        debug_screenshot('exportar')\n",
    "except pyautogui.ImageNotFoundException:\n",
    "    print('Erro ao tentar localizar a imagem exportar.png')\n",
    "    debug_screenshot('exportar_exception')\n",
    "\n",
    "time.sleep(2)\n",
    "\n",
    "# Confirmar exportação\n",
    "try:\n",
    "    confirmar = pyautogui.locateOnScreen('confirmar_exportar.png', grayscale=True, confidence=0.8)\n",
    "    if confirmar:\n",
    "        pyautogui.click(confirmar)\n",
    "    else:\n",
    "        print('Imagem confirmar_exportar.png não encontrada.')\n",
    "        debug_screenshot('confirmar')\n",
    "except pyautogui.ImageNotFoundException:\n",
    "    print('Erro ao tentar localizar a imagem confirmar_exportar.png')\n",
    "    debug_screenshot('confirmar_exception')"
   ]
  },
  {
   "cell_type": "markdown",
   "metadata": {},
   "source": [
    "### Agora vamos escrever o e-mail"
   ]
  },
  {
   "cell_type": "code",
   "execution_count": 52,
   "metadata": {},
   "outputs": [
    {
     "data": {
      "text/html": [
       "<div>\n",
       "<style scoped>\n",
       "    .dataframe tbody tr th:only-of-type {\n",
       "        vertical-align: middle;\n",
       "    }\n",
       "\n",
       "    .dataframe tbody tr th {\n",
       "        vertical-align: top;\n",
       "    }\n",
       "\n",
       "    .dataframe thead th {\n",
       "        text-align: right;\n",
       "    }\n",
       "</style>\n",
       "<table border=\"1\" class=\"dataframe\">\n",
       "  <thead>\n",
       "    <tr style=\"text-align: right;\">\n",
       "      <th></th>\n",
       "      <th>First Name</th>\n",
       "      <th>Last Name</th>\n",
       "      <th>Labels</th>\n",
       "      <th>E-mail 1 - Label</th>\n",
       "      <th>E-mail 1 - Value</th>\n",
       "    </tr>\n",
       "  </thead>\n",
       "  <tbody>\n",
       "    <tr>\n",
       "      <th>0</th>\n",
       "      <td>Day</td>\n",
       "      <td>teste</td>\n",
       "      <td>* myContacts</td>\n",
       "      <td>*</td>\n",
       "      <td>contatodaygames@gmail.com</td>\n",
       "    </tr>\n",
       "  </tbody>\n",
       "</table>\n",
       "</div>"
      ],
      "text/plain": [
       "  First Name Last Name        Labels E-mail 1 - Label  \\\n",
       "0        Day     teste  * myContacts               *    \n",
       "\n",
       "            E-mail 1 - Value  \n",
       "0  contatodaygames@gmail.com  "
      ]
     },
     "metadata": {},
     "output_type": "display_data"
    },
    {
     "data": {
      "text/plain": [
       "'OK'"
      ]
     },
     "execution_count": 52,
     "metadata": {},
     "output_type": "execute_result"
    }
   ],
   "source": [
    "import pandas as pd\n",
    "import pyperclip\n",
    "\n",
    "time.sleep(3)\n",
    "df = pd.read_csv('contacts.csv')\n",
    "df = df.dropna(axis=1)\n",
    "display(df)\n",
    "\n",
    "pyautogui.hotkey('ctrl', 'PgUp')\n",
    "try:\n",
    "    for email in df['E-mail 1 - Value']:\n",
    "        escrever = pyautogui.locateOnScreen('escrever.png', grayscale=True, confidence=0.8)\n",
    "        if escrever:\n",
    "            pyautogui.click(escrever)\n",
    "\n",
    "            #Escrever o e-mail\n",
    "            pyautogui.write(email)\n",
    "            pyautogui.press('enter')\n",
    "            pyautogui.press('tab')\n",
    "            pyautogui.write('Novas features para seu jogo favorito')\n",
    "            pyautogui.press('tab')\n",
    "            text = '''\n",
    "            Olá, Day Games. \n",
    "            Estamos muito felizes em informar que você foi selecionada \n",
    "            para o acesso antecipado de InZoi. Logo receberá informações para login. Att\n",
    "            '''\n",
    "            pyperclip.copy(text)\n",
    "            pyautogui.hotkey('ctrl', 'v')\n",
    "            pyautogui.hotkey('ctrl', 'enter')\n",
    "        else:\n",
    "            print('Imagem escrever.png não encontrada.')\n",
    "            debug_screenshot('escrever')\n",
    "except pyautogui.ImageNotFoundException:\n",
    "    print('Erro ao tentar localizar a imagem escrever.png')\n",
    "    debug_screenshot('escrever_exception')\n",
    "pyautogui.alert('Automação finalizada. Devolvendo o controle do seu computador.')"
   ]
  },
  {
   "cell_type": "markdown",
   "metadata": {},
   "source": [
    "### E se eu já tiver com a aba aberta, como que eu coloco ela na frente?"
   ]
  },
  {
   "cell_type": "code",
   "execution_count": null,
   "metadata": {},
   "outputs": [],
   "source": []
  },
  {
   "cell_type": "markdown",
   "metadata": {},
   "source": [
    "### Como descobrir a posição do mouse do local que eu quero"
   ]
  },
  {
   "cell_type": "code",
   "execution_count": null,
   "metadata": {},
   "outputs": [],
   "source": [
    "print(pyautogui.position())"
   ]
  }
 ],
 "metadata": {
  "kernelspec": {
   "display_name": "Python 3",
   "language": "python",
   "name": "python3"
  },
  "language_info": {
   "codemirror_mode": {
    "name": "ipython",
    "version": 3
   },
   "file_extension": ".py",
   "mimetype": "text/x-python",
   "name": "python",
   "nbconvert_exporter": "python",
   "pygments_lexer": "ipython3",
   "version": "3.12.2"
  }
 },
 "nbformat": 4,
 "nbformat_minor": 4
}
